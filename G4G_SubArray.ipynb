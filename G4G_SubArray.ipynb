#problem link: https://practice.geeksforgeeks.org/problems/subarray-with-given-sum/0
#code
l = input()
T =int(l)
class PreCase(object):    
    def __init__(self,N=0,S=0,NT=0):
        self.N = N
        self.S = S
        self.NT = NT
    def inputNS(self):
        self.N,self.S = input().strip().split()
        self.N=int(self.N)
        self.S=int(self.S)
    def inputNT(self):
        self.NT = input().strip().split()
        for ite2 in range(self.N):
            self.NT[ite2] = int(self.NT[ite2])
cass=[]
for item in range(T):
    new = PreCase()
    cass.append(new)
for item in range(T):
    cass[item].inputNS()
    cass[item].inputNT()
def findsum(guy,item,numb,sum1):
    global masflag
    new123 = 0
    ramp = []
    coun1 = 0
    for i in range(item,numb):
        new123 = new123+cass[guy].NT[i]
        if new123 == sum1:
            ramp.append((i,coun1))
            masflag = 'P'
            break
            return ramp
        coun1 +=1
        ramp.append((-1,0))
    return ramp
flag1=[[] for itr in range(T)]
for guy in range(T):
    masflag='M'
    for item in range(0,cass[guy].N+1):
        if masflag == 'M':
            flag1[guy].append(findsum(guy,item,cass[guy].N,cass[guy].S))
for guy in range(T):
    Mass2 = 1
    for item in flag1[guy]:
        for idex,coun in item:
            if idex != -1:
                Mass2 = 0
                print('{} {}'.format(idex-coun+1,idex+1) )
    if Mass2 ==1:
        print('{}'.format(-1))
